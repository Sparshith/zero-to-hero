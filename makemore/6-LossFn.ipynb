{
 "cells": [
  {
   "cell_type": "markdown",
   "id": "ea204424-c38a-4a86-8cc4-846f13617a1f",
   "metadata": {},
   "source": [
    "### Objective\n",
    "\n",
    "Create a single number to track the quality of the model. \n",
    "\n",
    "This is done via calculating the negative log likelihood of the training data. \n",
    "\n",
    "##### Why negative log likelihood?\n",
    "1. Probability of abc as a string to be generated = product of probability of each bigrams acc to the chain rule, i.e, `P(.abc.) =  P(.a) * P(ab)* P(bc) * P(c.)`\n",
    "2. Now, each of these probabilities are going to be a number between 0 and 1, so it will likely result in a very low number. To avoid this, we use a monotonic function like log to help scale the value to a meaningful number.\n",
    "3. Therefore, loss can be `log(P(.abc.)`. Additionally, due to the log product rule, `log(P(.abc.) = log(P(.a)) + log(P(ab)) + log(P(bc) + P(c.))`\n",
    "4. However, the output of this will be a negative number, so in order to model the loss as a number to reduce to make the model better, we can just take the negative value of this. This is how we end up with the \"Negative log likelihood\" as the loss fn. Can average the final value by the total number of bigrams to normalise to get a smaller number instead of a large value. \n",
    "\n",
    "##### Steps to implement:\n",
    "1. For each word in the training set, calculate the log probability of each bigram in the loop counting bigrams.\n",
    "2. Sum up each of them to get the loss function across the entire training set, and avg them by dividing this sum by the total number of bigrams. "
   ]
  },
  {
   "cell_type": "code",
   "execution_count": 2,
   "id": "32dfd064-455a-4b0c-8837-8c1d3b6e3c59",
   "metadata": {},
   "outputs": [],
   "source": [
    "import torch\n",
    "import math"
   ]
  },
  {
   "cell_type": "code",
   "execution_count": 3,
   "id": "75e09755-566f-4ebe-9299-b18bb20b2334",
   "metadata": {},
   "outputs": [],
   "source": [
    "N = torch.zeros((27, 27), dtype=torch.int32)\n",
    "words = open('names.txt', 'r').read().lower().splitlines()\n",
    "chars = sorted(list(set(''.join(words))))\n",
    "stoi = {c:i+1 for i, c in enumerate(chars)}\n",
    "stoi['.'] = 0\n",
    "itos = {i:c for c, i in stoi.items()}"
   ]
  },
  {
   "cell_type": "code",
   "execution_count": 4,
   "id": "32af44b5-0358-44db-94ec-c4962c50deb1",
   "metadata": {},
   "outputs": [],
   "source": [
    "for w in words:\n",
    "    w = ['.'] + list(w) + ['.']\n",
    "    for c1, c2 in zip(w, w[1:]):\n",
    "        N[stoi[c1]][stoi[c2]] += 1"
   ]
  },
  {
   "cell_type": "code",
   "execution_count": 7,
   "id": "b6efd995-1f3d-4015-8a1c-681e1953db99",
   "metadata": {},
   "outputs": [],
   "source": [
    "sumOfEachRow = torch.sum(N.float(), dim=1, keepdim=True)\n",
    "P = N/sumOfEachRow"
   ]
  },
  {
   "cell_type": "markdown",
   "id": "4164df54-3538-4d35-9343-8f22552e3c7e",
   "metadata": {},
   "source": [
    "### Calculate the loss"
   ]
  },
  {
   "cell_type": "code",
   "execution_count": 15,
   "id": "ab45a971-63a5-4aa0-965f-f5a7902df5d8",
   "metadata": {},
   "outputs": [],
   "source": [
    "log_likelihood = 0.0\n",
    "for w in words:\n",
    "    w = ['.'] + list(w) + ['.']\n",
    "    for c1, c2 in zip(w, w[1:]):\n",
    "        row = stoi[c1]\n",
    "        col = stoi[c2]\n",
    "        log_prob = torch.log(P[row][col]) # log of prob of bigram\n",
    "        log_likelihood += log_prob\n",
    "loss = -log_likelihood"
   ]
  },
  {
   "cell_type": "code",
   "execution_count": 16,
   "id": "6d803f3e-2208-40a9-9596-78a98d453664",
   "metadata": {},
   "outputs": [
    {
     "data": {
      "text/plain": [
       "tensor(559891.7500)"
      ]
     },
     "execution_count": 16,
     "metadata": {},
     "output_type": "execute_result"
    }
   ],
   "source": [
    "loss"
   ]
  },
  {
   "cell_type": "code",
   "execution_count": null,
   "id": "52dc7e0d-2c6a-43b4-8a00-36018e92e2e0",
   "metadata": {},
   "outputs": [],
   "source": []
  }
 ],
 "metadata": {
  "kernelspec": {
   "display_name": "Python 3 (ipykernel)",
   "language": "python",
   "name": "python3"
  },
  "language_info": {
   "codemirror_mode": {
    "name": "ipython",
    "version": 3
   },
   "file_extension": ".py",
   "mimetype": "text/x-python",
   "name": "python",
   "nbconvert_exporter": "python",
   "pygments_lexer": "ipython3",
   "version": "3.13.2"
  }
 },
 "nbformat": 4,
 "nbformat_minor": 5
}
