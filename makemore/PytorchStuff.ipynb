{
 "cells": [
  {
   "cell_type": "markdown",
   "id": "a8f388cb-398d-4550-b3aa-5e5dda325f35",
   "metadata": {},
   "source": [
    "### Operations"
   ]
  },
  {
   "cell_type": "code",
   "execution_count": 2,
   "id": "dfd0d8e8-8c03-45ea-804f-b328b9408f2c",
   "metadata": {},
   "outputs": [],
   "source": [
    "a = torch.tensor([1,2,3,4,5], dtype=torch.int)"
   ]
  },
  {
   "cell_type": "code",
   "execution_count": 6,
   "id": "163c50fe-521f-43cc-829f-bf761728ca60",
   "metadata": {},
   "outputs": [
    {
     "data": {
      "text/plain": [
       "torch.Size([5])"
      ]
     },
     "execution_count": 6,
     "metadata": {},
     "output_type": "execute_result"
    }
   ],
   "source": [
    "(a/a.sum()).shape"
   ]
  },
  {
   "cell_type": "code",
   "execution_count": 27,
   "id": "ba187239-c930-4a75-9851-b97d75bcc780",
   "metadata": {},
   "outputs": [
    {
     "data": {
      "text/plain": [
       "torch.Size([3, 1])"
      ]
     },
     "execution_count": 27,
     "metadata": {},
     "output_type": "execute_result"
    }
   ],
   "source": [
    "a = torch.tensor([[1, 2], [2, 4], [3, 6]], dtype=torch.int)\n",
    "a1 = torch.sum(a, dim=1, keepdim=True)\n",
    "a1\n",
    "a1.shape"
   ]
  },
  {
   "cell_type": "markdown",
   "id": "b318301e-7cd6-424e-a54d-1eb6f3bc063d",
   "metadata": {},
   "source": [
    "### Looping"
   ]
  },
  {
   "cell_type": "code",
   "execution_count": 7,
   "id": "88e82e44-055d-4823-a12f-6b41f0439400",
   "metadata": {},
   "outputs": [
    {
     "name": "stdout",
     "output_type": "stream",
     "text": [
      "1 2\n",
      "2 4\n",
      "3 6\n"
     ]
    }
   ],
   "source": [
    "a = torch.tensor([[1, 2], [2, 4], [3, 6]])\n",
    "for row in a:\n",
    "    print(row[0].item(), row[1].item())"
   ]
  },
  {
   "cell_type": "markdown",
   "id": "3ad1ae54-8b71-448a-bc43-32f8d7343af9",
   "metadata": {},
   "source": [
    "### Data Types"
   ]
  },
  {
   "cell_type": "code",
   "execution_count": 10,
   "id": "c74e785e-fa4b-49e0-90b2-9f32a864b227",
   "metadata": {},
   "outputs": [
    {
     "name": "stdout",
     "output_type": "stream",
     "text": [
      "1.0 2.0\n",
      "2.0 4.0\n",
      "3.0 6.0\n"
     ]
    }
   ],
   "source": [
    "a = torch.tensor([[1, 2], [2, 4], [3, 6]]).float()\n",
    "for row in a:\n",
    "    print(row[0].item(), row[1].item())"
   ]
  },
  {
   "cell_type": "markdown",
   "id": "067e38d2-b0d2-4a2b-81aa-42bba2ff1e39",
   "metadata": {},
   "source": [
    "### Generator"
   ]
  },
  {
   "cell_type": "code",
   "execution_count": 22,
   "id": "8ff22c0e-e36e-431f-a7c2-a6e0eaa69978",
   "metadata": {},
   "outputs": [
    {
     "data": {
      "text/plain": [
       "tensor([0.7576, 0.2793, 0.4031])"
      ]
     },
     "execution_count": 22,
     "metadata": {},
     "output_type": "execute_result"
    }
   ],
   "source": [
    "g = torch.Generator().manual_seed(1)\n",
    "torch.rand(3, generator=g)"
   ]
  },
  {
   "cell_type": "markdown",
   "id": "3009ee98-f4b2-46e2-846f-d2c286f7631a",
   "metadata": {},
   "source": [
    "### Multinomials"
   ]
  },
  {
   "cell_type": "code",
   "execution_count": 1,
   "id": "540d7c49-0f57-44d3-bd79-fd9f594378f4",
   "metadata": {},
   "outputs": [],
   "source": [
    "import torch"
   ]
  },
  {
   "cell_type": "code",
   "execution_count": 70,
   "id": "0f4f0a7e-b2de-446e-809f-1a23b23ba0b3",
   "metadata": {},
   "outputs": [],
   "source": [
    "weights = torch.tensor([0.5, 10, 0.5, 0.5], dtype=torch.float) "
   ]
  },
  {
   "cell_type": "code",
   "execution_count": 76,
   "id": "071aca15-9954-420a-9c45-cf8e16c1be8c",
   "metadata": {},
   "outputs": [
    {
     "data": {
      "text/plain": [
       "tensor([1, 0])"
      ]
     },
     "execution_count": 76,
     "metadata": {},
     "output_type": "execute_result"
    }
   ],
   "source": [
    "torch.multinomial(weights, 2)"
   ]
  }
 ],
 "metadata": {
  "kernelspec": {
   "display_name": "Python 3 (ipykernel)",
   "language": "python",
   "name": "python3"
  },
  "language_info": {
   "codemirror_mode": {
    "name": "ipython",
    "version": 3
   },
   "file_extension": ".py",
   "mimetype": "text/x-python",
   "name": "python",
   "nbconvert_exporter": "python",
   "pygments_lexer": "ipython3",
   "version": "3.13.2"
  }
 },
 "nbformat": 4,
 "nbformat_minor": 5
}
