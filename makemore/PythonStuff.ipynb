{
 "cells": [
  {
   "cell_type": "markdown",
   "id": "b7b26ce6-1f02-4d44-b786-e9241844c024",
   "metadata": {},
   "source": [
    "### Reading a file "
   ]
  },
  {
   "cell_type": "code",
   "execution_count": 32,
   "id": "b624aae7-1f4f-4170-a763-2243b0af9f30",
   "metadata": {},
   "outputs": [],
   "source": [
    "words = open('names.txt', 'r').read().lower()\n",
    "words = words.splitlines()"
   ]
  },
  {
   "cell_type": "markdown",
   "id": "9cb7473b-c817-4a0e-8edd-f2a505a38043",
   "metadata": {},
   "source": [
    "### Stoi implementation"
   ]
  },
  {
   "cell_type": "code",
   "execution_count": 41,
   "id": "70bbb034-97b0-47f2-a868-5a7f211bd7c1",
   "metadata": {},
   "outputs": [],
   "source": [
    "chars = sorted(list(set(''.join(words))))\n",
    "stoi = {c:i for i, c in enumerate(chars)}\n",
    "itos = {i:c for c, i in stoi.items() }"
   ]
  },
  {
   "cell_type": "code",
   "execution_count": 42,
   "id": "5ac6e036-84ad-4d70-b791-96225faf0d2e",
   "metadata": {},
   "outputs": [
    {
     "data": {
      "text/plain": [
       "{'a': 0,\n",
       " 'b': 1,\n",
       " 'c': 2,\n",
       " 'd': 3,\n",
       " 'e': 4,\n",
       " 'f': 5,\n",
       " 'g': 6,\n",
       " 'h': 7,\n",
       " 'i': 8,\n",
       " 'j': 9,\n",
       " 'k': 10,\n",
       " 'l': 11,\n",
       " 'm': 12,\n",
       " 'n': 13,\n",
       " 'o': 14,\n",
       " 'p': 15,\n",
       " 'q': 16,\n",
       " 'r': 17,\n",
       " 's': 18,\n",
       " 't': 19,\n",
       " 'u': 20,\n",
       " 'v': 21,\n",
       " 'w': 22,\n",
       " 'x': 23,\n",
       " 'y': 24,\n",
       " 'z': 25}"
      ]
     },
     "execution_count": 42,
     "metadata": {},
     "output_type": "execute_result"
    }
   ],
   "source": [
    "stoi"
   ]
  },
  {
   "cell_type": "code",
   "execution_count": 43,
   "id": "69565f2e-b334-4a57-867d-80279222d1c2",
   "metadata": {},
   "outputs": [
    {
     "data": {
      "text/plain": [
       "{0: 'a',\n",
       " 1: 'b',\n",
       " 2: 'c',\n",
       " 3: 'd',\n",
       " 4: 'e',\n",
       " 5: 'f',\n",
       " 6: 'g',\n",
       " 7: 'h',\n",
       " 8: 'i',\n",
       " 9: 'j',\n",
       " 10: 'k',\n",
       " 11: 'l',\n",
       " 12: 'm',\n",
       " 13: 'n',\n",
       " 14: 'o',\n",
       " 15: 'p',\n",
       " 16: 'q',\n",
       " 17: 'r',\n",
       " 18: 's',\n",
       " 19: 't',\n",
       " 20: 'u',\n",
       " 21: 'v',\n",
       " 22: 'w',\n",
       " 23: 'x',\n",
       " 24: 'y',\n",
       " 25: 'z'}"
      ]
     },
     "execution_count": 43,
     "metadata": {},
     "output_type": "execute_result"
    }
   ],
   "source": [
    "itos"
   ]
  },
  {
   "cell_type": "markdown",
   "id": "bb842827-f7ec-4772-8858-0537fcf9e053",
   "metadata": {},
   "source": [
    "### Understanding Multinomial in torch"
   ]
  },
  {
   "cell_type": "code",
   "execution_count": 48,
   "id": "95ea817f-38de-47ae-879d-035ea8f1a36a",
   "metadata": {},
   "outputs": [],
   "source": [
    "import torch"
   ]
  },
  {
   "cell_type": "code",
   "execution_count": 70,
   "id": "9e705208-2678-4fef-aff1-78665bfd6a8a",
   "metadata": {},
   "outputs": [],
   "source": [
    "weights = torch.tensor([0.5, 10, 0.5, 0.5], dtype=torch.float) "
   ]
  },
  {
   "cell_type": "code",
   "execution_count": 76,
   "id": "30019d3d-724f-41e5-bc07-b3fff5cb099b",
   "metadata": {},
   "outputs": [
    {
     "data": {
      "text/plain": [
       "tensor([1, 0])"
      ]
     },
     "execution_count": 76,
     "metadata": {},
     "output_type": "execute_result"
    }
   ],
   "source": [
    "torch.multinomial(weights, 2)"
   ]
  }
 ],
 "metadata": {
  "kernelspec": {
   "display_name": "Python 3 (ipykernel)",
   "language": "python",
   "name": "python3"
  },
  "language_info": {
   "codemirror_mode": {
    "name": "ipython",
    "version": 3
   },
   "file_extension": ".py",
   "mimetype": "text/x-python",
   "name": "python",
   "nbconvert_exporter": "python",
   "pygments_lexer": "ipython3",
   "version": "3.13.2"
  }
 },
 "nbformat": 4,
 "nbformat_minor": 5
}
