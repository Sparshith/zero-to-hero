{
 "cells": [
  {
   "cell_type": "code",
   "execution_count": 21,
   "id": "48f2d38e-dd69-4868-b08a-8f5ebda4269f",
   "metadata": {},
   "outputs": [],
   "source": [
    "import random\n",
    "import math"
   ]
  },
  {
   "cell_type": "code",
   "execution_count": 22,
   "id": "bbfde1ef-8052-4aa2-a3ff-0637ca669fc6",
   "metadata": {},
   "outputs": [],
   "source": [
    "class Value:\n",
    "    def __init__(self, data, _children = (), _op='', label='', grad = 0.0):\n",
    "        self.data = data\n",
    "        self._prev = set(_children) # used to store which Values were used to get this data\n",
    "        self._op = _op # which operation was run on the children Values to get this data\n",
    "        self._backward = lambda: None\n",
    "        self.label = label # what should it be known as in the graph vis (just the var name usually)\n",
    "        self.grad = grad # what is the gradient wrt to the final root node\n",
    "\n",
    "    def __repr__(self):\n",
    "        return f\"Value (data = {self.data})\"\n",
    "\n",
    "    def __add__(self, other):\n",
    "        if not isinstance(other, Value):\n",
    "            other = Value(other)\n",
    "        \n",
    "        out = Value(self.data + other.data, (self, other), '+')\n",
    "        def _backward():\n",
    "            self.grad += out.grad\n",
    "            other.grad += out.grad\n",
    "        out._backward = _backward\n",
    "        \n",
    "        return out\n",
    "        \n",
    "    def __radd__(self, other):\n",
    "        return self + other\n",
    "\n",
    "    def __mul__(self, other):\n",
    "        if not isinstance(other, Value):\n",
    "            other = Value(other)\n",
    "        \n",
    "        out = Value(self.data * other.data, (self, other), '*')\n",
    "        def _backward():\n",
    "            self.grad += other.data * out.grad\n",
    "            other.grad += self.data * out.grad\n",
    "        out._backward = _backward\n",
    "        return out\n",
    "\n",
    "    def __rmul__(self, other):\n",
    "        return self * other\n",
    "\n",
    "    def __sub__(self, other):\n",
    "        return self + (-other)\n",
    "\n",
    "    def __truediv__(self, other):\n",
    "        return self * (other ** -1)\n",
    "\n",
    "    def __pow__(self, other):\n",
    "        if not isinstance(other, (int, float)):\n",
    "            raise TypeError(f\"Exponent must be an int or float, got {type(other).__name__}\")\n",
    "\n",
    "        out = Value(self.data ** other, (self,), f\"**{other}\")\n",
    "\n",
    "        def _backward():\n",
    "            self.grad += out.grad * ( other * self.data ** (other - 1))\n",
    "            \n",
    "        out._backward = _backward\n",
    "        \n",
    "        return out\n",
    "\n",
    "    def exp(self):\n",
    "        x = self.data\n",
    "        out = Value(math.exp(x), (self, ), 'exp')\n",
    "\n",
    "        def _backward():\n",
    "            self.grad += out.grad * out.data\n",
    "        out._backward = _backward\n",
    "        return out\n",
    "    \n",
    "    def tanhOld(self):\n",
    "        x = self.data\n",
    "        output = (math.exp(2*x) - 1) / (math.exp(2*x) + 1)\n",
    "        out = Value(output, (self, ), 'tanh')\n",
    "\n",
    "\n",
    "        def _backward():\n",
    "            self.grad += (1 - (out.data ** 2)) * out.grad\n",
    "        out._backward = _backward\n",
    "        \n",
    "        return out\n",
    "\n",
    "    def tanh(self):\n",
    "        e = (2 * self).exp()\n",
    "        return (e - 1)/(e + 1)\n",
    "\n",
    "    def backward(self):\n",
    "        topo = []\n",
    "        visited = set()\n",
    "        \n",
    "        def build_topo(v):\n",
    "            if v not in visited:\n",
    "                visited.add(v)\n",
    "                for child in v._prev:\n",
    "                    build_topo(child)\n",
    "                topo.append(v)\n",
    "        build_topo(self)\n",
    "\n",
    "        for node in reversed(topo):\n",
    "            node._backward()"
   ]
  },
  {
   "cell_type": "code",
   "execution_count": 30,
   "id": "14a58ad6-635c-4c7c-afd5-9688ac32cea0",
   "metadata": {},
   "outputs": [],
   "source": [
    "class Neuron:\n",
    "    # nin is the number of inputs being passed to the neuron\n",
    "    # the number of x's in w1x1 + w2x2 + w3x3..\n",
    "    def __init__(self, nin):\n",
    "        # generate weights for the inputs, they can be randomised\n",
    "        self.w = [Value(random.uniform(-1, 1)) for _ in range(nin)]\n",
    "        self.b = random.uniform(-1,1)\n",
    "\n",
    "    def __call__(self, x):\n",
    "        # On n(x), you want to run the forward pass on the inputs \n",
    "\n",
    "        # first create the dot product of x's and w's => w1x1 + w2x2..\n",
    "        dp = sum(xi * wi for xi, wi in zip(x, self.w))\n",
    "\n",
    "        # add the bias, and run it through the activation function to squash\n",
    "        out = (dp + self.b).tanh()\n",
    "        \n",
    "        return out\n",
    "        \n",
    "    "
   ]
  },
  {
   "cell_type": "code",
   "execution_count": 37,
   "id": "a02f809a-af91-4492-8512-039e8e2739ff",
   "metadata": {},
   "outputs": [],
   "source": [
    "n = Neuron(2)\n",
    "x = [1.0, 2.0]"
   ]
  },
  {
   "cell_type": "code",
   "execution_count": 38,
   "id": "f876878c-874a-4113-b606-f80ff83eb7b8",
   "metadata": {},
   "outputs": [
    {
     "data": {
      "text/plain": [
       "Value (data = 0.9372422195229345)"
      ]
     },
     "execution_count": 38,
     "metadata": {},
     "output_type": "execute_result"
    }
   ],
   "source": [
    "n(x)"
   ]
  },
  {
   "cell_type": "code",
   "execution_count": null,
   "id": "c405cff4-bfb6-499d-8574-dd1ccb57ee95",
   "metadata": {},
   "outputs": [],
   "source": []
  },
  {
   "cell_type": "code",
   "execution_count": null,
   "id": "58fc85dd-f581-4105-a6b8-e2d0678cebe5",
   "metadata": {},
   "outputs": [],
   "source": []
  },
  {
   "cell_type": "code",
   "execution_count": null,
   "id": "ea5916d0-f7e2-4900-8672-dc985cec112c",
   "metadata": {},
   "outputs": [],
   "source": []
  }
 ],
 "metadata": {
  "kernelspec": {
   "display_name": "Python (micrograd)",
   "language": "python",
   "name": "your_env_name"
  },
  "language_info": {
   "codemirror_mode": {
    "name": "ipython",
    "version": 3
   },
   "file_extension": ".py",
   "mimetype": "text/x-python",
   "name": "python",
   "nbconvert_exporter": "python",
   "pygments_lexer": "ipython3",
   "version": "3.13.2"
  }
 },
 "nbformat": 4,
 "nbformat_minor": 5
}
