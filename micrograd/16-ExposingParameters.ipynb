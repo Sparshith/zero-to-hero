{
 "cells": [
  {
   "cell_type": "code",
   "execution_count": 11,
   "id": "4ab52fa1-2bc4-48e8-a278-c72e9466ec06",
   "metadata": {},
   "outputs": [],
   "source": [
    "from graphviz import Digraph\n",
    "\n",
    "def trace(root):\n",
    "  # builds a set of all nodes and edges in a graph\n",
    "  nodes, edges = set(), set()\n",
    "  def build(v):\n",
    "    if v not in nodes:\n",
    "      nodes.add(v)\n",
    "      for child in v._prev:\n",
    "        edges.add((child, v))\n",
    "        build(child)\n",
    "  build(root)\n",
    "  return nodes, edges\n",
    "\n",
    "def draw_dot(root):\n",
    "  dot = Digraph(format='svg', graph_attr={'rankdir': 'LR'}) # LR = left to right\n",
    "  \n",
    "  nodes, edges = trace(root)\n",
    "  for n in nodes:\n",
    "    uid = str(id(n))\n",
    "    # for any value in the graph, create a rectangular ('record') node for it\n",
    "    dot.node(name = uid, label = \"{ %s | data %.4f | grad %.4f }\" % (n.label, n.data, n.grad), shape='record')\n",
    "    if n._op:\n",
    "      # if this value is a result of some operation, create an op node for it\n",
    "      dot.node(name = uid + n._op, label = n._op)\n",
    "      # and connect this node to it\n",
    "      dot.edge(uid + n._op, uid)\n",
    "\n",
    "  for n1, n2 in edges:\n",
    "    # connect n1 to the op node of n2\n",
    "    dot.edge(str(id(n1)), str(id(n2)) + n2._op)\n",
    "\n",
    "  return dot"
   ]
  },
  {
   "cell_type": "code",
   "execution_count": 12,
   "id": "72ffc5ef-5513-417a-9008-ca21c9eb98fc",
   "metadata": {},
   "outputs": [],
   "source": [
    "import math\n",
    "import random"
   ]
  },
  {
   "cell_type": "code",
   "execution_count": 49,
   "id": "1185ba83-0760-454f-8ada-714cdc6b81e5",
   "metadata": {},
   "outputs": [],
   "source": [
    "class Value:\n",
    "    def __init__(self, data, label='', _children=(), _op='', grad = 0, _backward = lambda: None):\n",
    "        self.data = data\n",
    "        self.label = label\n",
    "        self._prev = set(_children)\n",
    "        self._op = _op\n",
    "        self.grad = grad\n",
    "        self._backward = _backward\n",
    "\n",
    "    def __repr__(self):\n",
    "        return f\"Value(data={self.data})\"\n",
    "\n",
    "    def __add__(self, other):\n",
    "        if not isinstance(other, Value):\n",
    "            other = Value(other)\n",
    "        out = Value(self.data + other.data, _children = (self, other), _op = '+')\n",
    "        def _backward():\n",
    "            self.grad += out.grad\n",
    "            other.grad += out.grad\n",
    "\n",
    "        out._backward = _backward\n",
    "        \n",
    "        return out\n",
    "\n",
    "    def __mul__(self, other):\n",
    "        if not isinstance(other, Value):\n",
    "            other = Value(other)\n",
    "        out = Value(self.data * other.data, _children = (self, other), _op= '*')\n",
    "\n",
    "        def _backward():\n",
    "            self.grad += out.grad * other.data\n",
    "            other.grad += out.grad * self.data\n",
    "\n",
    "        out._backward = _backward\n",
    "        return out\n",
    "\n",
    "    def __rmul__(self, other):\n",
    "        return self * other\n",
    "\n",
    "    def __radd__(self, other):\n",
    "        return self + other\n",
    "\n",
    "    def __sub__(self, other):\n",
    "        return self + -(other)\n",
    "\n",
    "    def __pow__(self, other):\n",
    "        if not isinstance(other, (int, float)):\n",
    "            raise TypeError(f\"Exponent must be an int or float, got {type(other).__name__}\")\n",
    "\n",
    "        out = Value(self.data ** other, _children=(self,), label=f\"**{other}\")\n",
    "\n",
    "        def _backward():\n",
    "            self.grad += out.grad * ( self.data ** (other - 1))\n",
    "            \n",
    "        out._backward = _backward\n",
    "        \n",
    "        return out\n",
    "            \n",
    "    \n",
    "    def tanh(self):\n",
    "        x = (math.exp(2 * self.data) - 1)/ (math.exp(2 * self.data) + 1)\n",
    "        out = Value(x, _children = (self, ), _op = 'tanh')\n",
    "\n",
    "        def _backward():\n",
    "            self.grad += (1 - (out.data ** 2))\n",
    "        out._backward = _backward\n",
    "        return out\n",
    "        \n",
    "        \n",
    "\n",
    "    def backward(self):\n",
    "        topo = []\n",
    "        visited = set()\n",
    "\n",
    "        def build_topo(v):\n",
    "            if v not in visited:\n",
    "                visited.add(v)\n",
    "                for child in v._prev:\n",
    "                    build_topo(child)\n",
    "                topo.append(v)\n",
    "                \n",
    "        build_topo(self)\n",
    "\n",
    "        for node in reversed(topo):\n",
    "            node._backward()\n",
    "\n",
    "    "
   ]
  },
  {
   "cell_type": "code",
   "execution_count": 50,
   "id": "1d2fef7a-d333-4c06-ad43-6b61d538c001",
   "metadata": {},
   "outputs": [],
   "source": [
    "class Neuron:\n",
    "    # nin is the number of inputs to the neuron\n",
    "    def __init__(self, nin):\n",
    "        # generate weights & bias\n",
    "        self.w = [Value(random.uniform(-1, 1)) for _ in range(nin)]\n",
    "        self.b = random.uniform(-1, 1)\n",
    "\n",
    "    def __call__(self, x):\n",
    "        # x will be a [x1, x2..]\n",
    "        # need to return activation_func((w1x1 + w2x2) + b)\n",
    "        dp = sum((xi * wi for xi, wi in zip(x, self.w)))\n",
    "        return (dp + self.b).tanh()\n",
    "\n",
    "    def parameters(self):\n",
    "        return [self.b]+ self.w"
   ]
  },
  {
   "cell_type": "code",
   "execution_count": 51,
   "id": "72c9ae69-e790-4a34-8844-174c696ce8b0",
   "metadata": {},
   "outputs": [],
   "source": [
    "class Layer:\n",
    "    # nin: number of inputs\n",
    "    # nout: number of neurons\n",
    "    def __init__(self, nin, nout):\n",
    "        self.neurons = [Neuron(nin) for _ in range(nout)]\n",
    "\n",
    "    def __call__(self, x):\n",
    "        out = [n(x) for n in self.neurons]\n",
    "        return out if len(out) > 1 else out[0] \n",
    "\n",
    "    def parameters(self):\n",
    "        params = []\n",
    "        for n in self.neurons:\n",
    "            params.extend(n.parameters())\n",
    "        return params"
   ]
  },
  {
   "cell_type": "code",
   "execution_count": 78,
   "id": "81a28bd4-08a9-4b03-8b03-9117519026b8",
   "metadata": {},
   "outputs": [],
   "source": [
    "class MLP:\n",
    "    # nin: number of inputs\n",
    "    # nouts: list of layers where each layer will define how many neurons it has\n",
    "    def __init__(self, nin, nouts):\n",
    "        # This is to create a list where each pair of elements will represent inputs <> ouputs\n",
    "        self.sz = [nin] + nouts\n",
    "        self.layers = [Layer(self.sz[i], self.sz[i+1]) for i in range(0, len(self.sz) - 1)]\n",
    "\n",
    "    def __call__(self, x):\n",
    "        for l in self.layers:\n",
    "            x = l(x)\n",
    "        return x\n",
    "\n",
    "    def parameters(self):\n",
    "        params = []\n",
    "        for l in self.layers:\n",
    "            params.extend(l.parameters())\n",
    "        return params"
   ]
  },
  {
   "cell_type": "code",
   "execution_count": 79,
   "id": "31540b33-4eee-4c80-accd-f317e0aa62b4",
   "metadata": {},
   "outputs": [],
   "source": [
    "m = MLP(3, [4, 4, 1])\n",
    "x = [1.0, 2.0]"
   ]
  },
  {
   "cell_type": "code",
   "execution_count": 80,
   "id": "9c351f08-484a-4262-97d1-9109fb833f06",
   "metadata": {},
   "outputs": [
    {
     "data": {
      "text/plain": [
       "Value(data=0.3501268374160545)"
      ]
     },
     "execution_count": 80,
     "metadata": {},
     "output_type": "execute_result"
    }
   ],
   "source": [
    "m(x)"
   ]
  },
  {
   "cell_type": "code",
   "execution_count": 81,
   "id": "1fd356bd-77b9-4097-8673-df680c5f7a76",
   "metadata": {},
   "outputs": [
    {
     "data": {
      "text/plain": [
       "41"
      ]
     },
     "execution_count": 81,
     "metadata": {},
     "output_type": "execute_result"
    }
   ],
   "source": [
    "len(m.parameters())"
   ]
  },
  {
   "cell_type": "code",
   "execution_count": null,
   "id": "f54b0967-70e6-4402-8641-4060a55341c0",
   "metadata": {},
   "outputs": [],
   "source": []
  }
 ],
 "metadata": {
  "kernelspec": {
   "display_name": "Python (micrograd)",
   "language": "python",
   "name": "micrograd"
  },
  "language_info": {
   "codemirror_mode": {
    "name": "ipython",
    "version": 3
   },
   "file_extension": ".py",
   "mimetype": "text/x-python",
   "name": "python",
   "nbconvert_exporter": "python",
   "pygments_lexer": "ipython3",
   "version": "3.13.2"
  }
 },
 "nbformat": 4,
 "nbformat_minor": 5
}
