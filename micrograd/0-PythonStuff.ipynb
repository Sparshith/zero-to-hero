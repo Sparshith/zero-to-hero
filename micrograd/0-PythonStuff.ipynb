{
 "cells": [
  {
   "cell_type": "markdown",
   "id": "5a2b63eb-3bb8-4728-aee7-7f1e0de75993",
   "metadata": {},
   "source": [
    "### Call function\n",
    "\n",
    "Usage: Use when you want to expose the object as a function "
   ]
  },
  {
   "cell_type": "code",
   "execution_count": 6,
   "id": "abb3d296-c31f-4a48-b99a-a81908086107",
   "metadata": {},
   "outputs": [],
   "source": [
    "class Multiplier:\n",
    "    def __init__(self, factor):\n",
    "        self.factor = factor\n",
    "    def __call__(self, number):\n",
    "        return number * self.factor\n",
    "        "
   ]
  },
  {
   "cell_type": "code",
   "execution_count": 7,
   "id": "58ede0b0-c5e0-46a6-9cd6-69e4597f3f6c",
   "metadata": {},
   "outputs": [],
   "source": [
    "double = Multiplier(2.0)"
   ]
  },
  {
   "cell_type": "code",
   "execution_count": 8,
   "id": "663e9ec5-b704-4bad-a8f1-94803aa6ae1c",
   "metadata": {},
   "outputs": [
    {
     "data": {
      "text/plain": [
       "8.0"
      ]
     },
     "execution_count": 8,
     "metadata": {},
     "output_type": "execute_result"
    }
   ],
   "source": [
    "double(4)"
   ]
  },
  {
   "cell_type": "markdown",
   "id": "01350d46-1bae-4628-a48b-cbd0a5e84f89",
   "metadata": {},
   "source": [
    "### Zip function\n",
    "\n",
    "Usage: Use it when you have two lists, and you want to run some operation on elements on the same index across both lists"
   ]
  },
  {
   "cell_type": "code",
   "execution_count": 9,
   "id": "c73bcd6d-2a93-4f80-bd25-6c39242637ef",
   "metadata": {},
   "outputs": [],
   "source": [
    "x = [1, 2, 4]\n",
    "y = [10, 20, 30]\n",
    "zipped = zip(x, y)"
   ]
  },
  {
   "cell_type": "code",
   "execution_count": 11,
   "id": "2b31df15-9616-469d-8e19-bc7962096926",
   "metadata": {},
   "outputs": [
    {
     "data": {
      "text/plain": [
       "[(1, 10), (2, 20), (4, 30)]"
      ]
     },
     "execution_count": 11,
     "metadata": {},
     "output_type": "execute_result"
    }
   ],
   "source": [
    "list(zipped)"
   ]
  },
  {
   "cell_type": "markdown",
   "id": "8c742f55-0eb6-48d0-bf2a-075469081252",
   "metadata": {},
   "source": [
    "### Iterating"
   ]
  },
  {
   "cell_type": "code",
   "execution_count": 12,
   "id": "054f1664-c3a2-4417-bbb7-543d8bf20906",
   "metadata": {},
   "outputs": [],
   "source": [
    "a = [1, 2, 3, 4]"
   ]
  },
  {
   "cell_type": "code",
   "execution_count": 15,
   "id": "8da39a9c-c817-440a-a4e5-849222888d19",
   "metadata": {},
   "outputs": [
    {
     "name": "stdout",
     "output_type": "stream",
     "text": [
      "1\n",
      "2\n",
      "3\n",
      "4\n"
     ]
    }
   ],
   "source": [
    "for i in range(0, len(a)):\n",
    "    print(a[i])"
   ]
  },
  {
   "cell_type": "code",
   "execution_count": null,
   "id": "ef3f6710-624b-4a51-a236-201e9af78bfb",
   "metadata": {},
   "outputs": [],
   "source": []
  }
 ],
 "metadata": {
  "kernelspec": {
   "display_name": "Python (micrograd)",
   "language": "python",
   "name": "your_env_name"
  },
  "language_info": {
   "codemirror_mode": {
    "name": "ipython",
    "version": 3
   },
   "file_extension": ".py",
   "mimetype": "text/x-python",
   "name": "python",
   "nbconvert_exporter": "python",
   "pygments_lexer": "ipython3",
   "version": "3.9.6"
  }
 },
 "nbformat": 4,
 "nbformat_minor": 5
}
