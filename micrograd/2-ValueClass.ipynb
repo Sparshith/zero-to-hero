{
 "cells": [
  {
   "cell_type": "code",
   "execution_count": 1,
   "id": "bc781557-2490-4683-a3a1-447714ba88cf",
   "metadata": {},
   "outputs": [],
   "source": [
    "class Value:\n",
    "    def __init__(self, data):\n",
    "        self.data = data\n",
    "\n",
    "    def __repr__(self):\n",
    "        return f\"Value (data = {self.data})\"\n",
    "\n",
    "    def __add__(self, other):\n",
    "        return Value(self.data + other.data)\n",
    "\n",
    "    def __mul__(self, other):\n",
    "        return Value(self.data * other.data)\n",
    "        "
   ]
  },
  {
   "cell_type": "code",
   "execution_count": 2,
   "id": "ab115c6b-78b9-4603-a696-1fce4a7e843b",
   "metadata": {},
   "outputs": [],
   "source": [
    "a = Value(5.0)"
   ]
  },
  {
   "cell_type": "code",
   "execution_count": 3,
   "id": "11d5dd1f-c1d5-4fc3-9eb9-5f746ea314ca",
   "metadata": {},
   "outputs": [
    {
     "data": {
      "text/plain": [
       "Value (data = 5.0)"
      ]
     },
     "execution_count": 3,
     "metadata": {},
     "output_type": "execute_result"
    }
   ],
   "source": [
    "a"
   ]
  },
  {
   "cell_type": "code",
   "execution_count": 4,
   "id": "4743d03a-fa59-4658-94cd-ef93e4b33949",
   "metadata": {},
   "outputs": [],
   "source": [
    "b = Value(4.0)"
   ]
  },
  {
   "cell_type": "code",
   "execution_count": 5,
   "id": "a2860e82-6ce3-4090-ae87-da36c1756e59",
   "metadata": {},
   "outputs": [
    {
     "data": {
      "text/plain": [
       "Value (data = 9.0)"
      ]
     },
     "execution_count": 5,
     "metadata": {},
     "output_type": "execute_result"
    }
   ],
   "source": [
    "a + b"
   ]
  },
  {
   "cell_type": "code",
   "execution_count": 6,
   "id": "9681846c-8a8e-4853-b241-b61810b857dd",
   "metadata": {},
   "outputs": [
    {
     "data": {
      "text/plain": [
       "Value (data = 20.0)"
      ]
     },
     "execution_count": 6,
     "metadata": {},
     "output_type": "execute_result"
    }
   ],
   "source": [
    "a * b "
   ]
  },
  {
   "cell_type": "code",
   "execution_count": null,
   "id": "d29b41e7-905a-46e9-9d6c-4140e9631243",
   "metadata": {},
   "outputs": [],
   "source": []
  },
  {
   "cell_type": "code",
   "execution_count": null,
   "id": "32569ae2-41bc-4bd1-b6a4-9d4a311d5211",
   "metadata": {},
   "outputs": [],
   "source": []
  }
 ],
 "metadata": {
  "kernelspec": {
   "display_name": "Python (micrograd)",
   "language": "python",
   "name": "your_env_name"
  },
  "language_info": {
   "codemirror_mode": {
    "name": "ipython",
    "version": 3
   },
   "file_extension": ".py",
   "mimetype": "text/x-python",
   "name": "python",
   "nbconvert_exporter": "python",
   "pygments_lexer": "ipython3",
   "version": "3.13.2"
  }
 },
 "nbformat": 4,
 "nbformat_minor": 5
}
