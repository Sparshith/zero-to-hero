{
 "cells": [
  {
   "cell_type": "markdown",
   "id": "99b48b11-7d06-43b6-ab35-867ccf4f3dd2",
   "metadata": {},
   "source": [
    "### Section 1 \n",
    "\n",
    "##### Notes:\n",
    "1. While differentiating the output wrt to a variable, if the term does not contain that variable, then the term has no \"sensitivity\" to the final output. Hence, it becomes 0 when differentiated.\n",
    "2. Chain rule while using d(sin(u))/dx = cos(u) * du/dx\n",
    "3. Symmetric derivative performs better than the forward derivative because it \"looks\" both ways - what happens if there's a slight increase AND slight decrease and hence results in a better approximation. "
   ]
  },
  {
   "cell_type": "code",
   "execution_count": 1,
   "id": "a388e119-2b23-40e2-903a-e8544d3eb855",
   "metadata": {},
   "outputs": [
    {
     "name": "stdout",
     "output_type": "stream",
     "text": [
      "6.336362190988558\n"
     ]
    }
   ],
   "source": [
    "# here is a mathematical expression that takes 3 inputs and produces one output\n",
    "from math import sin, cos\n",
    "\n",
    "def f(a, b, c):\n",
    "  return -a**3 + sin(3*b) - 1.0/c + b**2.5 - a**0.5\n",
    "\n",
    "print(f(2, 3, 4))"
   ]
  },
  {
   "cell_type": "code",
   "execution_count": 3,
   "id": "977f30ef-189c-4901-9b0f-cc1a264d3e88",
   "metadata": {},
   "outputs": [
    {
     "name": "stdout",
     "output_type": "stream",
     "text": [
      "OK for dim 0: expected -12.353553390593273, yours returns -12.353553390593273\n",
      "OK for dim 1: expected 10.25699027111255, yours returns 10.25699027111255\n",
      "OK for dim 2: expected 0.0625, yours returns 0.0625\n"
     ]
    }
   ],
   "source": [
    "# write the function df that returns the analytical gradient of f\n",
    "# i.e. use your skills from calculus to take the derivative, then implement the formula\n",
    "# if you do not calculus then feel free to ask wolframalpha, e.g.:\n",
    "# https://www.wolframalpha.com/input?i=d%2Fda%28sin%283*a%29%29%29\n",
    "\n",
    "def gradf(a, b, c):\n",
    "    df_da = (-3 * (a ** 2)) - (0.5 * (a ** -0.5))\n",
    "    df_db = (3 * cos(3 * b)) + (2.5 * b ** 1.5)\n",
    "    df_dc = c ** -2\n",
    "    \n",
    "    return [df_da, df_db, df_dc] # todo, return [df/da, df/db, df/dc]\n",
    "\n",
    "# expected answer is the list of \n",
    "ans = [-12.353553390593273, 10.25699027111255, 0.0625]\n",
    "yours = gradf(2, 3, 4)\n",
    "for dim in range(3):\n",
    "  ok = 'OK' if abs(yours[dim] - ans[dim]) < 1e-5 else 'WRONG!'\n",
    "  print(f\"{ok} for dim {dim}: expected {ans[dim]}, yours returns {yours[dim]}\")"
   ]
  },
  {
   "cell_type": "code",
   "execution_count": 11,
   "id": "7ea927de-aa8c-4429-ae09-ee6c0a834916",
   "metadata": {},
   "outputs": [
    {
     "name": "stdout",
     "output_type": "stream",
     "text": [
      "OK for dim 0: expected -12.353553390593273, yours returns -12.353559348809995\n",
      "OK for dim 1: expected 10.25699027111255, yours returns 10.256991666679482\n",
      "OK for dim 2: expected 0.0625, yours returns 0.062499984743169534\n"
     ]
    }
   ],
   "source": [
    "# now estimate the gradient numerically without any calculus, using\n",
    "# the approximation we used in the video.\n",
    "# you should not call the function df from the last cell\n",
    "\n",
    "def f(a, b, c):\n",
    "    return -a**3 + sin(3*b) - c**-1 + b**2.5 - a**0.5 \n",
    "    \n",
    "a = 2\n",
    "b = 3\n",
    "c = 4\n",
    "h = 0.000001\n",
    "\n",
    "df_da = (f(a+h, b, c) - f(a, b, c,))/h\n",
    "df_db = (f(a, b+h, c) - f(a, b, c,))/h\n",
    "df_dc = (f(a, b, c+h) - f(a, b, c,))/h\n",
    "\n",
    "\n",
    "# -----------\n",
    "numerical_grad = [df_da, df_db, df_dc] # TODO\n",
    "# -----------\n",
    "\n",
    "for dim in range(3):\n",
    "  ok = 'OK' if abs(numerical_grad[dim] - ans[dim]) < 1e-5 else 'WRONG!'\n",
    "  print(f\"{ok} for dim {dim}: expected {ans[dim]}, yours returns {numerical_grad[dim]}\")"
   ]
  },
  {
   "cell_type": "code",
   "execution_count": 13,
   "id": "00b79806-18bd-449c-9143-64814c1dc99c",
   "metadata": {},
   "outputs": [
    {
     "name": "stdout",
     "output_type": "stream",
     "text": [
      "OK for dim 0: expected -12.353553390593273, yours returns -12.353553391353245\n",
      "OK for dim 1: expected 10.25699027111255, yours returns 10.25699027401572\n",
      "OK for dim 2: expected 0.0625, yours returns 0.06250000028629188\n"
     ]
    }
   ],
   "source": [
    "# there is an alternative formula that provides a much better numerical \n",
    "# approximation to the derivative of a function.\n",
    "# learn about it here: https://en.wikipedia.org/wiki/Symmetric_derivative\n",
    "# implement it. confirm that for the same step size h this version gives a\n",
    "# better approximation.\n",
    "\n",
    "def f(a, b, c):\n",
    "    return -a**3 + sin(3*b) - c**-1 + b**2.5 - a**0.5 \n",
    "\n",
    "a = 2\n",
    "b = 3\n",
    "c = 4\n",
    "h = 0.000001\n",
    "\n",
    "df_da = (f(a+h, b, c) - f(a-h, b, c))/(2*h)\n",
    "df_db = (f(a, b+h, c) - f(a, b-h, c))/(2*h)\n",
    "df_dc = (f(a, b, c+h) - f(a, b, c-h))/(2*h)\n",
    "\n",
    "\n",
    "# -----------\n",
    "numerical_grad2 = [df_da, df_db, df_dc] # TODO\n",
    "# -----------\n",
    "\n",
    "for dim in range(3):\n",
    "  ok = 'OK' if abs(numerical_grad2[dim] - ans[dim]) < 1e-5 else 'WRONG!'\n",
    "  print(f\"{ok} for dim {dim}: expected {ans[dim]}, yours returns {numerical_grad2[dim]}\")"
   ]
  },
  {
   "cell_type": "code",
   "execution_count": null,
   "id": "e2d5943b-57e5-4b4a-be1b-e001b37932dc",
   "metadata": {},
   "outputs": [],
   "source": []
  }
 ],
 "metadata": {
  "kernelspec": {
   "display_name": "Python 3 (ipykernel)",
   "language": "python",
   "name": "python3"
  },
  "language_info": {
   "codemirror_mode": {
    "name": "ipython",
    "version": 3
   },
   "file_extension": ".py",
   "mimetype": "text/x-python",
   "name": "python",
   "nbconvert_exporter": "python",
   "pygments_lexer": "ipython3",
   "version": "3.13.2"
  }
 },
 "nbformat": 4,
 "nbformat_minor": 5
}
