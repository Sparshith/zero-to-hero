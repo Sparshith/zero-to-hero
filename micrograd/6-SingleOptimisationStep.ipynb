{
 "cells": [
  {
   "cell_type": "code",
   "execution_count": 29,
   "id": "bc781557-2490-4683-a3a1-447714ba88cf",
   "metadata": {},
   "outputs": [],
   "source": [
    "class Value:\n",
    "    def __init__(self, data, _children = (), _op='', label='', grad = 0.0):\n",
    "        self.data = data\n",
    "        self._prev = set(_children) # used to store which Values were used to get this data\n",
    "        self._op = _op # which operation was run on the children Values to get this data\n",
    "        self.label = label # what should it be known as in the graph vis (just the var name usually)\n",
    "        self.grad = grad # what is the gradient wrt to the final root node\n",
    "\n",
    "    def __repr__(self):\n",
    "        return f\"Value (data = {self.data})\"\n",
    "\n",
    "    def __add__(self, other):\n",
    "        return Value(self.data + other.data, (self, other), '+')\n",
    "\n",
    "    def __mul__(self, other):\n",
    "        return Value(self.data * other.data, (self, other), '*')\n",
    "        "
   ]
  },
  {
   "cell_type": "code",
   "execution_count": 18,
   "id": "d29b41e7-905a-46e9-9d6c-4140e9631243",
   "metadata": {},
   "outputs": [],
   "source": [
    "a = Value(2.0, label='a')\n",
    "b = Value(-3.0, label='b')\n",
    "c = Value(10.0, label='c')\n",
    "e = a * b; e.label = 'e'\n",
    "d = e + c; d.label = 'd'\n",
    "f = Value(-2.0, label='f')\n",
    "L = f * d; L.label = 'L'"
   ]
  },
  {
   "cell_type": "code",
   "execution_count": 20,
   "id": "42b59397-a876-4ada-885e-d1af0258b799",
   "metadata": {},
   "outputs": [],
   "source": [
    "L.grad = 1.0\n",
    "f.grad = 4.0\n",
    "d.grad = -2.0 \n",
    "e.grad = -2.0\n",
    "c.grad = -2.0\n",
    "a.grad = -3.0 * -2.0\n",
    "b.grad = 2.0 * -2.0"
   ]
  },
  {
   "cell_type": "code",
   "execution_count": null,
   "id": "30352339-77d0-48ad-98cb-8e57909fa95a",
   "metadata": {},
   "outputs": [],
   "source": []
  }
 ],
 "metadata": {
  "kernelspec": {
   "display_name": "Python (micrograd)",
   "language": "python",
   "name": "your_env_name"
  },
  "language_info": {
   "codemirror_mode": {
    "name": "ipython",
    "version": 3
   },
   "file_extension": ".py",
   "mimetype": "text/x-python",
   "name": "python",
   "nbconvert_exporter": "python",
   "pygments_lexer": "ipython3",
   "version": "3.13.2"
  }
 },
 "nbformat": 4,
 "nbformat_minor": 5
}
