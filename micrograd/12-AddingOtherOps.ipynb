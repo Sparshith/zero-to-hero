{
 "cells": [
  {
   "cell_type": "code",
   "execution_count": 1,
   "id": "f5a76aac-69b7-4b10-bc76-fb9b87072ded",
   "metadata": {},
   "outputs": [],
   "source": [
    "import math"
   ]
  },
  {
   "cell_type": "code",
   "execution_count": 2,
   "id": "bc781557-2490-4683-a3a1-447714ba88cf",
   "metadata": {},
   "outputs": [],
   "source": [
    "class Value:\n",
    "    def __init__(self, data, _children = (), _op='', label='', grad = 0.0):\n",
    "        self.data = data\n",
    "        self._prev = set(_children) # used to store which Values were used to get this data\n",
    "        self._op = _op # which operation was run on the children Values to get this data\n",
    "        self._backward = lambda: None\n",
    "        self.label = label # what should it be known as in the graph vis (just the var name usually)\n",
    "        self.grad = grad # what is the gradient wrt to the final root node\n",
    "\n",
    "    def __repr__(self):\n",
    "        return f\"Value (data = {self.data})\"\n",
    "\n",
    "    def __add__(self, other):\n",
    "        if not isinstance(other, Value):\n",
    "            other = Value(other)\n",
    "        \n",
    "        out = Value(self.data + other.data, (self, other), '+')\n",
    "        def _backward():\n",
    "            self.grad += out.grad\n",
    "            other.grad += out.grad\n",
    "        out._backward = _backward\n",
    "        \n",
    "        return out\n",
    "        \n",
    "    def __radd__(self, other):\n",
    "        return self + other\n",
    "\n",
    "    def __mul__(self, other):\n",
    "        if not isinstance(other, Value):\n",
    "            other = Value(other)\n",
    "        \n",
    "        out = Value(self.data * other.data, (self, other), '*')\n",
    "        def _backward():\n",
    "            self.grad += other.data * out.grad\n",
    "            other.grad += self.data * out.grad\n",
    "        out._backward = _backward\n",
    "        return out\n",
    "\n",
    "    def __rmul__(self, other):\n",
    "        return self * other\n",
    "\n",
    "    def __sub__(self, other):\n",
    "        return self + (-other)\n",
    "\n",
    "    def __truediv__(self, other):\n",
    "        return self * (other ** -1)\n",
    "\n",
    "    def __pow__(self, other):\n",
    "        if not isinstance(other, (int, float)):\n",
    "            raise TypeError(f\"Exponent must be an int or float, got {type(other).__name__}\")\n",
    "\n",
    "        out = Value(self.data ** other, _children=(self,), _op=f\"**{other}\")\n",
    "\n",
    "        def _backward():\n",
    "            self.grad = out.grad * ( other * self.data ** (other - 1))\n",
    "            \n",
    "        out._backward = _backward\n",
    "        \n",
    "        return out\n",
    "\n",
    "    def exp(self):\n",
    "        x = self.data\n",
    "        out = Value(math.exp(x), (self, ), 'exp')\n",
    "\n",
    "        def _backward():\n",
    "            return out.data\n",
    "        out._backward = _backward\n",
    "        return out\n",
    "    \n",
    "    def tanhOld(self):\n",
    "        x = self.data\n",
    "        output = (math.exp(2*x) - 1) / (math.exp(2*x) + 1)\n",
    "        out = Value(output, (self, ), 'tanh')\n",
    "\n",
    "\n",
    "        def _backward():\n",
    "            self.grad += (1 - (out.data ** 2)) * out.grad\n",
    "        out._backward = _backward\n",
    "        \n",
    "        return out\n",
    "\n",
    "    def tanh(self):\n",
    "        e = (2 * self).exp()\n",
    "        return (e - 1)/(e + 1)\n",
    "\n",
    "    def backward(self):\n",
    "        topo = []\n",
    "        visited = set()\n",
    "        \n",
    "        def build_topo(v):\n",
    "            if v not in visited:\n",
    "                visited.add(v)\n",
    "                for child in v._prev:\n",
    "                    build_topo(child)\n",
    "                topo.append(v)\n",
    "        build_topo(self)\n",
    "\n",
    "        for node in reversed(topo):\n",
    "            node._backward()\n",
    "            \n",
    "        \n",
    "        "
   ]
  },
  {
   "cell_type": "code",
   "execution_count": 124,
   "id": "558c28ab-c2d3-4fad-9cc3-495e61b69689",
   "metadata": {},
   "outputs": [],
   "source": [
    "a = Value(10.0, 'a')"
   ]
  },
  {
   "cell_type": "code",
   "execution_count": 125,
   "id": "2757f7eb-0dc2-44e9-b154-2f8476127bb6",
   "metadata": {},
   "outputs": [
    {
     "data": {
      "text/plain": [
       "Value (data = 11.0)"
      ]
     },
     "execution_count": 125,
     "metadata": {},
     "output_type": "execute_result"
    }
   ],
   "source": [
    "a +1"
   ]
  },
  {
   "cell_type": "code",
   "execution_count": 126,
   "id": "9900718a-1a56-4771-bc66-2952b999e347",
   "metadata": {},
   "outputs": [
    {
     "data": {
      "text/plain": [
       "Value (data = 10.0)"
      ]
     },
     "execution_count": 126,
     "metadata": {},
     "output_type": "execute_result"
    }
   ],
   "source": [
    "a * 1"
   ]
  },
  {
   "cell_type": "code",
   "execution_count": 127,
   "id": "aceb3c2d-eba5-45c9-8a09-a24aa1da0bc9",
   "metadata": {},
   "outputs": [
    {
     "data": {
      "text/plain": [
       "Value (data = 9.0)"
      ]
     },
     "execution_count": 127,
     "metadata": {},
     "output_type": "execute_result"
    }
   ],
   "source": [
    "a - 1"
   ]
  },
  {
   "cell_type": "code",
   "execution_count": 128,
   "id": "c690da8b-f065-48b8-87a2-c190a2592523",
   "metadata": {},
   "outputs": [
    {
     "data": {
      "text/plain": [
       "Value (data = 100.0)"
      ]
     },
     "execution_count": 128,
     "metadata": {},
     "output_type": "execute_result"
    }
   ],
   "source": [
    "a ** 2"
   ]
  },
  {
   "cell_type": "code",
   "execution_count": 129,
   "id": "fc3ccac2-d6fc-4133-b7bc-c695e4731f57",
   "metadata": {},
   "outputs": [
    {
     "data": {
      "text/plain": [
       "Value (data = 1.0)"
      ]
     },
     "execution_count": 129,
     "metadata": {},
     "output_type": "execute_result"
    }
   ],
   "source": [
    "a / 10"
   ]
  },
  {
   "cell_type": "code",
   "execution_count": 130,
   "id": "938fd0a2-b41c-4329-859c-36b9c21a06ba",
   "metadata": {},
   "outputs": [
    {
     "data": {
      "text/plain": [
       "Value (data = 0.9999999958776927)"
      ]
     },
     "execution_count": 130,
     "metadata": {},
     "output_type": "execute_result"
    }
   ],
   "source": [
    "a.tanhOld()"
   ]
  },
  {
   "cell_type": "code",
   "execution_count": 131,
   "id": "77a9b8f8-6cb2-4628-b98d-f705694c4f7f",
   "metadata": {},
   "outputs": [
    {
     "data": {
      "text/plain": [
       "Value (data = 0.9999999958776928)"
      ]
     },
     "execution_count": 131,
     "metadata": {},
     "output_type": "execute_result"
    }
   ],
   "source": [
    "a.tanh()"
   ]
  },
  {
   "cell_type": "code",
   "execution_count": null,
   "id": "967368c2-7e65-4bcb-9dc4-bb8d456f5f87",
   "metadata": {},
   "outputs": [],
   "source": []
  },
  {
   "cell_type": "code",
   "execution_count": null,
   "id": "32d2cba4-5ea9-4b1b-b4f5-612229661492",
   "metadata": {},
   "outputs": [],
   "source": []
  }
 ],
 "metadata": {
  "kernelspec": {
   "display_name": "Python (micrograd)",
   "language": "python",
   "name": "micrograd"
  },
  "language_info": {
   "codemirror_mode": {
    "name": "ipython",
    "version": 3
   },
   "file_extension": ".py",
   "mimetype": "text/x-python",
   "name": "python",
   "nbconvert_exporter": "python",
   "pygments_lexer": "ipython3",
   "version": "3.13.2"
  }
 },
 "nbformat": 4,
 "nbformat_minor": 5
}
